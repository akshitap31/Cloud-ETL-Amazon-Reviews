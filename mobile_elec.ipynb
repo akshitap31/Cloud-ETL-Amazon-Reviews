{
  "nbformat": 4,
  "nbformat_minor": 0,
  "metadata": {
    "colab": {
      "name": "Untitled0.ipynb",
      "provenance": [],
      "collapsed_sections": []
    },
    "kernelspec": {
      "name": "python3",
      "display_name": "Python 3"
    }
  },
  "cells": [
    {
      "cell_type": "code",
      "metadata": {
        "id": "62FRVHZDXex7",
        "colab_type": "code",
        "colab": {}
      },
      "source": [
        "# Install Java, Spark, and Findspark\n",
        "!apt-get install openjdk-8-jdk-headless -qq > /dev/null\n",
        "!wget -q http://www-us.apache.org/dist/spark/spark-2.4.6/spark-2.4.6-bin-hadoop2.7.tgz\n",
        "!tar xf spark-2.4.6-bin-hadoop2.7.tgz\n",
        "!pip install -q findspark\n",
        "\n",
        "# Set Environment Variables\n",
        "import os\n",
        "os.environ[\"JAVA_HOME\"] = \"/usr/lib/jvm/java-8-openjdk-amd64\"\n",
        "os.environ[\"SPARK_HOME\"] = \"/content/spark-2.4.6-bin-hadoop2.7\"\n",
        "\n",
        "# Start a SparkSession\n",
        "import findspark\n",
        "findspark.init()"
      ],
      "execution_count": 1,
      "outputs": []
    },
    {
      "cell_type": "code",
      "metadata": {
        "id": "yYu3_Q50Zm-X",
        "colab_type": "code",
        "colab": {}
      },
      "source": [
        "from pyspark.sql import SparkSession\n",
        "spark = SparkSession.builder.appName(\"CloudETLProjectAnalysis\").getOrCreate()"
      ],
      "execution_count": 2,
      "outputs": []
    },
    {
      "cell_type": "code",
      "metadata": {
        "id": "A2bStuqDZqla",
        "colab_type": "code",
        "colab": {
          "base_uri": "https://localhost:8080/",
          "height": 474
        },
        "outputId": "48dc63e4-8271-4c8b-8ef7-ed65386bab5f"
      },
      "source": [
        "# Read in data from S3 Buckets\n",
        "from pyspark import SparkFiles\n",
        "url=\"https://s3.amazonaws.com/amazon-reviews-pds/tsv/amazon_reviews_us_Mobile_Electronics_v1_00.tsv.gz\"\n",
        "spark.sparkContext.addFile(url)\n",
        "\n",
        "df = spark.read.option('header', 'true').csv(SparkFiles.get(\"amazon_reviews_us_Mobile_Electronics_v1_00.tsv.gz\"), header=True, sep=\"\\t\")\n",
        "df.show(truncate=False)"
      ],
      "execution_count": 73,
      "outputs": [
        {
          "output_type": "stream",
          "text": [
            "+-----------+-----------+--------------+----------+--------------+------------------------------------------------------------------------------------------------------------------------------------------------------------------------------------------------------------------------------------+------------------+-----------+-------------+-----------+----+-----------------+-------------------------------------------------------------------+-----------------------------------------------------------------------------------------------------------------------------------------------------------------------------------------------------------------------------------------------------------------------------------------------------------------------------------------------------------------------------------------------------------------------------------------------------------------------------------------------------------------------------------------------------------------------------------------------------------------------------------------------------------------------------+-----------+\n",
            "|marketplace|customer_id|review_id     |product_id|product_parent|product_title                                                                                                                                                                                                                       |product_category  |star_rating|helpful_votes|total_votes|vine|verified_purchase|review_headline                                                    |review_body                                                                                                                                                                                                                                                                                                                                                                                                                                                                                                                                                                                                                                                                  |review_date|\n",
            "+-----------+-----------+--------------+----------+--------------+------------------------------------------------------------------------------------------------------------------------------------------------------------------------------------------------------------------------------------+------------------+-----------+-------------+-----------+----+-----------------+-------------------------------------------------------------------+-----------------------------------------------------------------------------------------------------------------------------------------------------------------------------------------------------------------------------------------------------------------------------------------------------------------------------------------------------------------------------------------------------------------------------------------------------------------------------------------------------------------------------------------------------------------------------------------------------------------------------------------------------------------------------+-----------+\n",
            "|US         |20422322   |R8MEA6IGAHO0B |B00MC4CED8|217304173     |BlackVue DR600GW-PMP                                                                                                                                                                                                                |Mobile_Electronics|5          |0            |0          |N   |Y                |Very Happy!                                                        |As advertised. Everything works perfectly, I'm very happy with the camera. As a matter of fact I'm going to buy another one for my 2nd car.                                                                                                                                                                                                                                                                                                                                                                                                                                                                                                                                  |2015-08-31 |\n",
            "|US         |40835037   |R31LOQ8JGLPRLK|B00OQMFG1Q|137313254     |GENSSI GSM / GPS Two Way Smart Phone Car Alarm System for iPhone Android Security                                                                                                                                                   |Mobile_Electronics|5          |0            |1          |N   |Y                |five star                                                          |it's great                                                                                                                                                                                                                                                                                                                                                                                                                                                                                                                                                                                                                                                                   |2015-08-31 |\n",
            "|US         |51469641   |R2Y0MM9YE6OP3P|B00QERR5CY|82850235      |iXCC Multi pack Lightning cable                                                                                                                                                                                                     |Mobile_Electronics|5          |0            |0          |N   |Y                |great cables                                                       |These work great and fit my life proof case for the iPhone 6                                                                                                                                                                                                                                                                                                                                                                                                                                                                                                                                                                                                                 |2015-08-31 |\n",
            "|US         |4332923    |RRB9C05HDOD4O |B00QUFTPV4|221169481     |abcGoodefg® FBI Covert Acoustic Tube Earpiece Headset PTT Mic for Motorola Two Way Radio Device Walkie Talkie GP88 300 2000 CT150 P040 PRO1150 SP10 XTN500 2pin                                                                     |Mobile_Electronics|4          |0            |0          |N   |Y                |Work very well but couldn't get used to not hearing ...            |Work very well but couldn't get used to not hearing anything out of the ear they v were plugged into.                                                                                                                                                                                                                                                                                                                                                                                                                                                                                                                                                                        |2015-08-31 |\n",
            "|US         |44855305   |R26I2RI1GFV8QG|B0067XVNTG|563475445     |Generic Car Dashboard Video Camera Vehicle Video Accident Recorder (2.0\" 1080P)                                                                                                                                                     |Mobile_Electronics|2          |0            |0          |N   |Y                |Cameras has battery issues                                         |Be careful with these products, I have bought several of these cameras and the image is pretty decent but battery doesn't hold any charge!!!!                                                                                                                                                                                                                                                                                                                                                                                                                                                                                                                                |2015-08-31 |\n",
            "|US         |7846966    |RY8DDL22YG4R5 |B00KA6CCVY|713636156     |Aweek® Air Acoustic Earpiece Headset for Baofeng Two Way Radios UV-5R UV-B6 BF-888S UV-B6 UV-B5 Walkie Talkies 2-Pin Jack                                                                                                           |Mobile_Electronics|3          |0            |1          |N   |Y                |It appears to be good, but I'm still waiting for my other items ...|It appears to be good, but I'm still waiting for my other items radio,batteries,charger, before I can go to 4 or 5 stars                                                                                                                                                                                                                                                                                                                                                                                                                                                                                                                                                     |2015-08-31 |\n",
            "|US         |21299354   |R2AT2426ZHFUHH|B00MJCDPM2|754171872     |Sentey LS-4460 B-Trek S8 Bluetooth Portable Stereo Speaker (Black)                                                                                                                                                                  |Mobile_Electronics|3          |0            |1          |N   |Y                |Didn't love the first one                                          |First one arrived as a brick.  Wouldn't work, wouldn't charge, useless.  Exchanged for a new one that works as advertised.                                                                                                                                                                                                                                                                                                                                                                                                                                                                                                                                                   |2015-08-31 |\n",
            "|US         |28902968   |R3RRXU2R23NMQ9|B00ET5AWBY|508373185     |iPad Car Headrest Mount Holder for iPad 2/ iPad 3/ iPad 4 with Long Mounting Strap                                                                                                                                                  |Mobile_Electronics|5          |0            |0          |N   |Y                |Five Stars                                                         |Worked great for vacation                                                                                                                                                                                                                                                                                                                                                                                                                                                                                                                                                                                                                                                    |2015-08-31 |\n",
            "|US         |2074438    |R250PR8VJUZ62F|B00Z9K379C|759387370     |ANWING Waterproof Wireless Bluetooth Speaker Outdoor and Shower Bluetooth Louder Speaker NFC, Sky Blue                                                                                                                              |Mobile_Electronics|4          |0            |2          |N   |Y                |Four Stars                                                         |this is a very good item, it provide me the sound that i like..                                                                                                                                                                                                                                                                                                                                                                                                                                                                                                                                                                                                              |2015-08-31 |\n",
            "|US         |48701722   |RBEMQ29WJBHYG |B00YO3UYXW|913911909     |Jensen MCR-100 Cassette Player/Recorder 1 Touch Recording with Headphone Jack & Aux Line-in                                                                                                                                         |Mobile_Electronics|5          |164          |168        |N   |Y                |I LOVE my recorder                                                 |I LOVE my recorder. Bought it obviously because I have tape cassette's with no way to play them.<br />Spent an AMAZING afternoon, listening to my Mom (who passed away in 2005), tell a 90 minute Christmas story of &#34;Nicholas&#34;,  to my two daughters, many moons ago.  It was a wonderful afternoon of laughter and tears.<br />I thank you, for providing me, the time to spend an afternoon with my Mom again... :)                                                                                                                                                                                                                                               |2015-08-31 |\n",
            "|US         |2990247    |R19VVIUT4BZCMT|B011W26BU2|938399424     |Bluetooth Speakers, SoundPal Cube F1 5 Watt Bluetooth Speaker Compatible with all Bluetooth Devices                                                                                                                                 |Mobile_Electronics|5          |2            |2          |N   |Y                |Five Stars                                                         |Great sound great battery beach, work, park, anywhere battery lasts                                                                                                                                                                                                                                                                                                                                                                                                                                                                                                                                                                                                          |2015-08-31 |\n",
            "|US         |52946117   |R1DT8JJUQHUKUL|B00H8PI78C|661515294     |15Pcs DC 5V 85dB 2 Pins Industrial Active Electronic Alarm Buzzer                                                                                                                                                                   |Mobile_Electronics|3          |0            |1          |N   |Y                |More of a beeper than a buzzer - good part, bad listing            |If what you want is a continuous tone piezo - i.e. a &#34;beeper&#34; - then this one would get 5  or maybe 4 stars.  (Possibly dock one star because it's a bit quiet for the rated sound level.)  However, if what you wanted was the thing described in the listing - i.e. a *buzzer*, for example something that would make the sound you get if you answer incorrectly on a game show &#34;bzzzzt&#34; - then it's 3 stars at best.  This is the 3rd batch of &#34;buzzers&#34; I've ordered from different suppliers so this is not an isolated incident.  Anyone need some beepers, cheap?                                                                            |2015-08-31 |\n",
            "|US         |49359994   |RLIL6S9OGM3YA |B00M49C6MK|91176851      |Sentey Ls 4162                                                                                                                                                                                                                      |Mobile_Electronics|5          |0            |0          |N   |Y                |Five Stars                                                         |Love it                                                                                                                                                                                                                                                                                                                                                                                                                                                                                                                                                                                                                                                                      |2015-08-31 |\n",
            "|US         |4158732    |R34EZZ68VYPHO0|B011Q291PK|891142775     |IcePACK 8 Can Insulated Cooler Speaker System Bag with Built-In Speaker and Amplifier System - Works With Beer , Soda , Gatorade , Juice Boxes and More Drinks                                                                      |Mobile_Electronics|1          |1            |1          |N   |Y                |One Star                                                           |Sucks                                                                                                                                                                                                                                                                                                                                                                                                                                                                                                                                                                                                                                                                        |2015-08-31 |\n",
            "|US         |18944032   |R3TZNSOXS13SIG|B00W6OLUGQ|577462547     |DTK® AMI MDI MMI Adapter 8-PIN Lightning Cable Connect iPod iPhone 5 ,5S, iPhone 6, iPhone 6 plus iPad to Audi A4 A5 S5 A6 A8 Q7 / Vw Jetta GTI GLI Jetta Passat Cc Tiguan Touareg EOS / Skoda Superb Octavia Fabia / Seat 2009-2013|Mobile_Electronics|2          |1            |3          |N   |Y                |Two Stars                                                          |u need to plug in both                                                                                                                                                                                                                                                                                                                                                                                                                                                                                                                                                                                                                                                       |2015-08-31 |\n",
            "|US         |279606     |R12UBZT87UX3AP|B008MY1F8W|680240984     |INPA K+CAN K+DCAN Car Diagnostic tool Cable OBD USB Interface for BMW R56 E87 E93 E70                                                                                                                                               |Mobile_Electronics|5          |2            |2          |N   |Y                |Five Stars                                                         |Worked with MHD Flasher for Android.  Used to flash performance tunes to BMW 135i/335i N54 engines.                                                                                                                                                                                                                                                                                                                                                                                                                                                                                                                                                                          |2015-08-31 |\n",
            "|US         |10947966   |R5KCRE927NYMU |B00KW3XNUE|219920841     |Magicfly Wireless RF Item Locator Key Finder 1 RF Transmitter and 6 Receivers                                                                                                                                                       |Mobile_Electronics|2          |0            |0          |N   |N                |Battery Cover Poor Quality                                         |Just arrived,  read instructions and attacked my #1 to key chain. Installed battery but for the life of me, was unable to CLOSE the cap. 100 times and still no go. #1 is out and apparently is broken. Tried #2 and did mange to close the cap. Have not tried #3 or #4 yet. Surely they can make a quality cover for the device. Thinking of returning the item and look for better quality battery cover. The font on the instructions are  too tiny to read, sure you can afford a larger print. No phone number or web address to contact for a replacement of #1. Hmmm...maybe you KNEW you had an inferior battery cover and  didn't care to deal with the complaints!|2015-08-31 |\n",
            "|US         |18387442   |RT12RQFU0V2AX |B009NGR0AK|254898339     |Humminbird XNT 9 28 T Transom Mount Single/Dual Beam Transducer                                                                                                                                                                     |Mobile_Electronics|5          |1            |1          |N   |Y                |Works great.                                                       |I bought this unit as a replacement for my portable fish finder. Works great as did the original. I replaced it because the original was accidentally damaged.                                                                                                                                                                                                                                                                                                                                                                                                                                                                                                               |2015-08-31 |\n",
            "|US         |48950322   |R2K0YQPV5W2SJ1|B011W26BU2|938399424     |Bluetooth Speakers, SoundPal Cube F1 5 Watt Bluetooth Speaker Compatible with all Bluetooth Devices                                                                                                                                 |Mobile_Electronics|4          |2            |2          |N   |Y                |A Lot of Sound In a Little Package!                                |I am giving the speakers a test drive as I write this review. I am deeply impressed by the sound quality of this little box. The high end is really nice. The bass is somewhat lacking, but, I didn't expect room-shaking bass anyway. These are a keeper!!!                                                                                                                                                                                                                                                                                                                                                                                                                 |2015-08-31 |\n",
            "|US         |48148197   |R104MY31OKNGXH|B00PAP68WO|366592530     |Foxnovo 3.7V 380mAh 25C Rechargeable Lipo Battery for Hubsan X4 H107 Ladybird RC Quadcopter (Blue)                                                                                                                                  |Mobile_Electronics|5          |0            |0          |N   |Y                |Five Stars                                                         |Met my application needs very well.                                                                                                                                                                                                                                                                                                                                                                                                                                                                                                                                                                                                                                          |2015-08-31 |\n",
            "+-----------+-----------+--------------+----------+--------------+------------------------------------------------------------------------------------------------------------------------------------------------------------------------------------------------------------------------------------+------------------+-----------+-------------+-----------+----+-----------------+-------------------------------------------------------------------+-----------------------------------------------------------------------------------------------------------------------------------------------------------------------------------------------------------------------------------------------------------------------------------------------------------------------------------------------------------------------------------------------------------------------------------------------------------------------------------------------------------------------------------------------------------------------------------------------------------------------------------------------------------------------------+-----------+\n",
            "only showing top 20 rows\n",
            "\n"
          ],
          "name": "stdout"
        }
      ]
    },
    {
      "cell_type": "code",
      "metadata": {
        "id": "jO6jK5nBaFok",
        "colab_type": "code",
        "colab": {
          "base_uri": "https://localhost:8080/",
          "height": 34
        },
        "outputId": "f76e5acc-1247-4c8b-f156-74692eb490f2"
      },
      "source": [
        "print(f\"Total Number rows in the dataframe are {df.count()}\")"
      ],
      "execution_count": 74,
      "outputs": [
        {
          "output_type": "stream",
          "text": [
            "Total Number rows in the dataframe are 104975\n"
          ],
          "name": "stdout"
        }
      ]
    },
    {
      "cell_type": "code",
      "metadata": {
        "id": "6S1T_SWWbvry",
        "colab_type": "code",
        "colab": {
          "base_uri": "https://localhost:8080/",
          "height": 454
        },
        "outputId": "e78ed6c5-3736-41d9-ed4d-460963d2abbc"
      },
      "source": [
        "review_id_table=df.select([\"review_id\", \"customer_id\", \"product_id\", \"product_parent\", \"review_date\"])\n",
        "review_id_table.show()"
      ],
      "execution_count": 75,
      "outputs": [
        {
          "output_type": "stream",
          "text": [
            "+--------------+-----------+----------+--------------+-----------+\n",
            "|     review_id|customer_id|product_id|product_parent|review_date|\n",
            "+--------------+-----------+----------+--------------+-----------+\n",
            "| R8MEA6IGAHO0B|   20422322|B00MC4CED8|     217304173| 2015-08-31|\n",
            "|R31LOQ8JGLPRLK|   40835037|B00OQMFG1Q|     137313254| 2015-08-31|\n",
            "|R2Y0MM9YE6OP3P|   51469641|B00QERR5CY|      82850235| 2015-08-31|\n",
            "| RRB9C05HDOD4O|    4332923|B00QUFTPV4|     221169481| 2015-08-31|\n",
            "|R26I2RI1GFV8QG|   44855305|B0067XVNTG|     563475445| 2015-08-31|\n",
            "| RY8DDL22YG4R5|    7846966|B00KA6CCVY|     713636156| 2015-08-31|\n",
            "|R2AT2426ZHFUHH|   21299354|B00MJCDPM2|     754171872| 2015-08-31|\n",
            "|R3RRXU2R23NMQ9|   28902968|B00ET5AWBY|     508373185| 2015-08-31|\n",
            "|R250PR8VJUZ62F|    2074438|B00Z9K379C|     759387370| 2015-08-31|\n",
            "| RBEMQ29WJBHYG|   48701722|B00YO3UYXW|     913911909| 2015-08-31|\n",
            "|R19VVIUT4BZCMT|    2990247|B011W26BU2|     938399424| 2015-08-31|\n",
            "|R1DT8JJUQHUKUL|   52946117|B00H8PI78C|     661515294| 2015-08-31|\n",
            "| RLIL6S9OGM3YA|   49359994|B00M49C6MK|      91176851| 2015-08-31|\n",
            "|R34EZZ68VYPHO0|    4158732|B011Q291PK|     891142775| 2015-08-31|\n",
            "|R3TZNSOXS13SIG|   18944032|B00W6OLUGQ|     577462547| 2015-08-31|\n",
            "|R12UBZT87UX3AP|     279606|B008MY1F8W|     680240984| 2015-08-31|\n",
            "| R5KCRE927NYMU|   10947966|B00KW3XNUE|     219920841| 2015-08-31|\n",
            "| RT12RQFU0V2AX|   18387442|B009NGR0AK|     254898339| 2015-08-31|\n",
            "|R2K0YQPV5W2SJ1|   48950322|B011W26BU2|     938399424| 2015-08-31|\n",
            "|R104MY31OKNGXH|   48148197|B00PAP68WO|     366592530| 2015-08-31|\n",
            "+--------------+-----------+----------+--------------+-----------+\n",
            "only showing top 20 rows\n",
            "\n"
          ],
          "name": "stdout"
        }
      ]
    },
    {
      "cell_type": "code",
      "metadata": {
        "id": "BurvLhJRgxLv",
        "colab_type": "code",
        "colab": {
          "base_uri": "https://localhost:8080/",
          "height": 101
        },
        "outputId": "17430026-dfc7-46c1-8db1-a74f28b1841a"
      },
      "source": [
        "review_id_table.dtypes"
      ],
      "execution_count": 76,
      "outputs": [
        {
          "output_type": "execute_result",
          "data": {
            "text/plain": [
              "[('review_id', 'string'),\n",
              " ('customer_id', 'string'),\n",
              " ('product_id', 'string'),\n",
              " ('product_parent', 'string'),\n",
              " ('review_date', 'string')]"
            ]
          },
          "metadata": {
            "tags": []
          },
          "execution_count": 76
        }
      ]
    },
    {
      "cell_type": "code",
      "metadata": {
        "id": "EcFolLr-hzBV",
        "colab_type": "code",
        "colab": {}
      },
      "source": [
        "from pyspark.sql.types import IntegerType, DateType\n",
        "review_id_table=review_id_table.withColumn(\"customer_id\", review_id_table[\"customer_id\"].cast(IntegerType()))\n",
        "review_id_table=review_id_table.withColumn(\"product_id\", review_id_table[\"product_id\"].cast(IntegerType()))\n",
        "review_id_table=review_id_table.withColumn(\"review_date\", review_id_table[\"review_date\"].cast(DateType()))\n"
      ],
      "execution_count": 77,
      "outputs": []
    },
    {
      "cell_type": "code",
      "metadata": {
        "id": "BgNLQ0xf1fr2",
        "colab_type": "code",
        "colab": {
          "base_uri": "https://localhost:8080/",
          "height": 454
        },
        "outputId": "8db8c26d-21fc-42bf-fbc9-540b4225d791"
      },
      "source": [
        "products=df.select([\"product_id\", \"product_title\" ])\n",
        "products=products.dropDuplicates()\n",
        "products.show()"
      ],
      "execution_count": 78,
      "outputs": [
        {
          "output_type": "stream",
          "text": [
            "+----------+--------------------+\n",
            "|product_id|       product_title|\n",
            "+----------+--------------------+\n",
            "|B01075GRAO|ANYSECU QYT KT890...|\n",
            "|B00QVXNV60|BRG AH2000G-ANR A...|\n",
            "|B004ECO5VA|Holux Mini Smart ...|\n",
            "|B00LGNKLXG|Aweek® Car Antenn...|\n",
            "|B00M1Y87I0|      sentey ls 4063|\n",
            "|B002ABX29I|Micca Slim Portab...|\n",
            "|B00XXA2T2G|Centurion GT1 Car...|\n",
            "|B00Q5A5PD6|HYUNDAI HCR-580 V...|\n",
            "|B00VFEK8IY|Z ZTDM Mini Stere...|\n",
            "|B00L85M8VU|Settonbrothers Ul...|\n",
            "|B00SUXD5GU|[NEW RELEASE] JEB...|\n",
            "|B00KJ7MVYW|Fincibo (TM) Appl...|\n",
            "|B00A6YQQS0|Minisuit Aero Fol...|\n",
            "|B009S99IYI|PIO TSG1644R 6.5 ...|\n",
            "|B006PAZCXY|eForCity® Anti-Gl...|\n",
            "|B00OXD61OE|SHE'O® 2x Cool No...|\n",
            "|B000IBMI1K|RCA 200-Watt Mono...|\n",
            "|B00UN6955M|Aisster(TM) Lot 1...|\n",
            "|B00V684NCQ|LSD 8GB Flash Dri...|\n",
            "|B00A609WOO|eForCity Hybrid S...|\n",
            "+----------+--------------------+\n",
            "only showing top 20 rows\n",
            "\n"
          ],
          "name": "stdout"
        }
      ]
    },
    {
      "cell_type": "code",
      "metadata": {
        "id": "6LMum6wDM1PM",
        "colab_type": "code",
        "colab": {
          "base_uri": "https://localhost:8080/",
          "height": 34
        },
        "outputId": "60731cd1-0482-4983-e857-7cfa9b4f38f6"
      },
      "source": [
        "products.count()"
      ],
      "execution_count": 79,
      "outputs": [
        {
          "output_type": "execute_result",
          "data": {
            "text/plain": [
              "25801"
            ]
          },
          "metadata": {
            "tags": []
          },
          "execution_count": 79
        }
      ]
    },
    {
      "cell_type": "code",
      "metadata": {
        "id": "VdCyuzScM-nE",
        "colab_type": "code",
        "colab": {
          "base_uri": "https://localhost:8080/",
          "height": 454
        },
        "outputId": "34401847-7756-45bb-cd17-085e41650d1b"
      },
      "source": [
        "from pyspark.sql import functions as F\n",
        "customers=df.groupby(\"customer_id\").agg( F.count(\"customer_id\"))\n",
        "customers=customers.withColumnRenamed(\"count(customer_id)\", \"customer_count\")\n",
        "customers.show()"
      ],
      "execution_count": 80,
      "outputs": [
        {
          "output_type": "stream",
          "text": [
            "+-----------+--------------+\n",
            "|customer_id|customer_count|\n",
            "+-----------+--------------+\n",
            "|    3962209|             1|\n",
            "|   24644096|             1|\n",
            "|   24659376|             1|\n",
            "|   24486730|             2|\n",
            "|   36657077|             1|\n",
            "|   11418933|             1|\n",
            "|   32573306|             1|\n",
            "|   20754832|             1|\n",
            "|   14658656|             1|\n",
            "|   18419577|             1|\n",
            "|   28239403|             1|\n",
            "|    2284327|             1|\n",
            "|   10631491|             1|\n",
            "|   22438646|             1|\n",
            "|    4365384|             1|\n",
            "|   18635888|             1|\n",
            "|   33820066|             1|\n",
            "|    1942116|             1|\n",
            "|   28785561|             1|\n",
            "|   15549256|             1|\n",
            "+-----------+--------------+\n",
            "only showing top 20 rows\n",
            "\n"
          ],
          "name": "stdout"
        }
      ]
    },
    {
      "cell_type": "code",
      "metadata": {
        "id": "pCS4HOOvN2Ss",
        "colab_type": "code",
        "colab": {
          "base_uri": "https://localhost:8080/",
          "height": 101
        },
        "outputId": "202b2c13-1aa9-429d-e7ac-36ca1a5a1857"
      },
      "source": [
        "vine_table=df.select([\"review_id\", \"star_rating\", \"helpful_votes\", \"total_votes\", \"vine\"])\n",
        "vine_table.dtypes"
      ],
      "execution_count": 81,
      "outputs": [
        {
          "output_type": "execute_result",
          "data": {
            "text/plain": [
              "[('review_id', 'string'),\n",
              " ('star_rating', 'string'),\n",
              " ('helpful_votes', 'string'),\n",
              " ('total_votes', 'string'),\n",
              " ('vine', 'string')]"
            ]
          },
          "metadata": {
            "tags": []
          },
          "execution_count": 81
        }
      ]
    },
    {
      "cell_type": "code",
      "metadata": {
        "id": "yNMRWPddO7IY",
        "colab_type": "code",
        "colab": {
          "base_uri": "https://localhost:8080/",
          "height": 454
        },
        "outputId": "42ec8bd7-56f7-48b2-a649-9bedc36747df"
      },
      "source": [
        "vine_table=vine_table.withColumn(\"star_rating\", vine_table[\"star_rating\"].cast(IntegerType()))\n",
        "vine_table=vine_table.withColumn(\"helpful_votes\", vine_table[\"helpful_votes\"].cast(IntegerType()))\n",
        "vine_table=vine_table.withColumn(\"total_votes\", vine_table[\"total_votes\"].cast(IntegerType()))\n",
        "vine_table.show()\n"
      ],
      "execution_count": 82,
      "outputs": [
        {
          "output_type": "stream",
          "text": [
            "+--------------+-----------+-------------+-----------+----+\n",
            "|     review_id|star_rating|helpful_votes|total_votes|vine|\n",
            "+--------------+-----------+-------------+-----------+----+\n",
            "| R8MEA6IGAHO0B|          5|            0|          0|   N|\n",
            "|R31LOQ8JGLPRLK|          5|            0|          1|   N|\n",
            "|R2Y0MM9YE6OP3P|          5|            0|          0|   N|\n",
            "| RRB9C05HDOD4O|          4|            0|          0|   N|\n",
            "|R26I2RI1GFV8QG|          2|            0|          0|   N|\n",
            "| RY8DDL22YG4R5|          3|            0|          1|   N|\n",
            "|R2AT2426ZHFUHH|          3|            0|          1|   N|\n",
            "|R3RRXU2R23NMQ9|          5|            0|          0|   N|\n",
            "|R250PR8VJUZ62F|          4|            0|          2|   N|\n",
            "| RBEMQ29WJBHYG|          5|          164|        168|   N|\n",
            "|R19VVIUT4BZCMT|          5|            2|          2|   N|\n",
            "|R1DT8JJUQHUKUL|          3|            0|          1|   N|\n",
            "| RLIL6S9OGM3YA|          5|            0|          0|   N|\n",
            "|R34EZZ68VYPHO0|          1|            1|          1|   N|\n",
            "|R3TZNSOXS13SIG|          2|            1|          3|   N|\n",
            "|R12UBZT87UX3AP|          5|            2|          2|   N|\n",
            "| R5KCRE927NYMU|          2|            0|          0|   N|\n",
            "| RT12RQFU0V2AX|          5|            1|          1|   N|\n",
            "|R2K0YQPV5W2SJ1|          4|            2|          2|   N|\n",
            "|R104MY31OKNGXH|          5|            0|          0|   N|\n",
            "+--------------+-----------+-------------+-----------+----+\n",
            "only showing top 20 rows\n",
            "\n"
          ],
          "name": "stdout"
        }
      ]
    },
    {
      "cell_type": "code",
      "metadata": {
        "id": "HmweuKRQQT9c",
        "colab_type": "code",
        "colab": {}
      },
      "source": [
        "# Configure settings for RDS\n",
        "mode = \"append\"\n",
        "# Enter credentials here\n",
        "jdbc_url=\"jdbc:postgresql://<RDS-Endpoint>:5432/amazon-sentiments\"\n",
        "config = {\"user\":\"root\", \n",
        "          \"password\": \"<RDS password>\", \n",
        "          \"driver\":\"org.postgresql.Driver\"}\n"
      ],
      "execution_count": 83,
      "outputs": []
    },
    {
      "cell_type": "code",
      "metadata": {
        "id": "1O2t-U6DR39N",
        "colab_type": "code",
        "colab": {}
      },
      "source": [
        "review_id_table.write.jdbc(url=jdbc_url, table='review_id_table', mode=mode, properties=config)"
      ],
      "execution_count": 14,
      "outputs": []
    },
    {
      "cell_type": "code",
      "metadata": {
        "id": "oM1ZCztxR4NF",
        "colab_type": "code",
        "colab": {}
      },
      "source": [
        "products.write.jdbc(url=jdbc_url, table='products', mode=mode, properties=config)"
      ],
      "execution_count": 15,
      "outputs": []
    },
    {
      "cell_type": "code",
      "metadata": {
        "id": "9JtCe3cGSJ6x",
        "colab_type": "code",
        "colab": {}
      },
      "source": [
        "customers.write.jdbc(url=jdbc_url, table='customers', mode=mode, properties=config)"
      ],
      "execution_count": 16,
      "outputs": []
    },
    {
      "cell_type": "code",
      "metadata": {
        "id": "1ceVjRRDSKFl",
        "colab_type": "code",
        "colab": {}
      },
      "source": [
        "vine_table.write.jdbc(url=jdbc_url, table='vine_table', mode=mode, properties=config)"
      ],
      "execution_count": 17,
      "outputs": []
    },
    {
      "cell_type": "code",
      "metadata": {
        "id": "5-3Q5-hX4jDj",
        "colab_type": "code",
        "colab": {
          "base_uri": "https://localhost:8080/",
          "height": 185
        },
        "outputId": "e01e49af-7234-4e43-a299-15c1767741db"
      },
      "source": [
        "from pyspark.sql.functions import col,when,count, sum, round\n",
        "from pyspark.sql.window import Window\n",
        "star_rating=df.groupby(\"star_rating\").agg(count(when(col(\"vine\") == \"N\", True)), count(when(col(\"vine\") == \"Y\", True)))\n",
        "star_rating=star_rating.withColumnRenamed(\"count(CASE WHEN (vine = N) THEN true END)\", \"non-vine\").withColumnRenamed(\"count(CASE WHEN (vine = Y) THEN true END)\", \"vine\")\\\n",
        ".sort(col(\"star_rating\").desc())\\\n",
        ".withColumn('percent-non-vine', col('non-vine')/sum('non-vine').over(Window.partitionBy()))\\\n",
        ".withColumn('percent-vine', col('vine')/sum('vine').over(Window.partitionBy()))\\\n",
        ".show()"
      ],
      "execution_count": 84,
      "outputs": [
        {
          "output_type": "stream",
          "text": [
            "+-----------+--------+----+-------------------+------------------+\n",
            "|star_rating|non-vine|vine|   percent-non-vine|      percent-vine|\n",
            "+-----------+--------+----+-------------------+------------------+\n",
            "|          5|   52249|   6| 0.4978133902455291|0.3333333333333333|\n",
            "|          4|   18082|   6|0.17228007660279923|0.3333333333333333|\n",
            "|          3|    9730|   4|0.09270463142048649|0.2222222222222222|\n",
            "|          2|    7309|   2|0.06963804224587213|0.1111111111111111|\n",
            "|          1|   17587|   0|0.16756385948531302|               0.0|\n",
            "+-----------+--------+----+-------------------+------------------+\n",
            "\n"
          ],
          "name": "stdout"
        }
      ]
    },
    {
      "cell_type": "code",
      "metadata": {
        "id": "ykgdLHiZ6nj2",
        "colab_type": "code",
        "colab": {
          "base_uri": "https://localhost:8080/",
          "height": 134
        },
        "outputId": "804fcdd1-f11a-49dc-835d-001361ed7d5a"
      },
      "source": [
        "helpful_vote=df.groupby(\"vine\").agg(count(\"vine\"), round(F.avg(\"star_rating\"),2), round(F.sum(\"helpful_votes\")/count(\"vine\"), 2), round(F.sum(\"total_votes\")/count(\"vine\"), 2))\\\n",
        ".withColumnRenamed(\"round((sum(helpful_votes) / count(vine)), 2)\", \"Avg Helpful Votes\")\\\n",
        ".withColumnRenamed(\"round(avg(star_rating), 2)\", \"Avg Star Rating\")\\\n",
        ".withColumnRenamed(\"round((sum(total_votes) / count(vine)), 2)\", \"Avg Total Votes\").show()\n"
      ],
      "execution_count": 85,
      "outputs": [
        {
          "output_type": "stream",
          "text": [
            "+----+-----------+---------------+-----------------+---------------+\n",
            "|vine|count(vine)|Avg Star Rating|Avg Helpful Votes|Avg Total Votes|\n",
            "+----+-----------+---------------+-----------------+---------------+\n",
            "|   Y|         18|           3.89|            41.89|           50.5|\n",
            "|   N|     104957|           3.76|             1.24|           1.61|\n",
            "+----+-----------+---------------+-----------------+---------------+\n",
            "\n"
          ],
          "name": "stdout"
        }
      ]
    },
    {
      "cell_type": "code",
      "metadata": {
        "id": "5pAQacGy_rik",
        "colab_type": "code",
        "colab": {
          "base_uri": "https://localhost:8080/",
          "height": 454
        },
        "outputId": "72e75a85-363e-4cf9-88ce-7ffb66dde3a0"
      },
      "source": [
        "advertised_product=df.groupby(\"product_title\").agg(count(when(col(\"vine\") == \"N\", True)), count(when(col(\"vine\") == \"Y\", True)))\\\n",
        ".sort(col(\"count(CASE WHEN (vine = Y) THEN true END)\").desc()).show()"
      ],
      "execution_count": 94,
      "outputs": [
        {
          "output_type": "stream",
          "text": [
            "+--------------------+-----------------------------------------+-----------------------------------------+\n",
            "|       product_title|count(CASE WHEN (vine = N) THEN true END)|count(CASE WHEN (vine = Y) THEN true END)|\n",
            "+--------------------+-----------------------------------------+-----------------------------------------+\n",
            "|Orbotix Sphero 2....|                                       25|                                       10|\n",
            "|Avid Vocal Studio...|                                       33|                                        8|\n",
            "|Apple iPad Air Ca...|                                       13|                                        0|\n",
            "|100% Waterproof A...|                                       10|                                        0|\n",
            "|Saitek AI FMK578 ...|                                        2|                                        0|\n",
            "|Generic Car Radar...|                                        1|                                        0|\n",
            "|Mivizu Universal ...|                                       31|                                        0|\n",
            "|Pioneer DEH-P401H...|                                        5|                                        0|\n",
            "|Garmin Speed/Cade...|                                       27|                                        0|\n",
            "|HifiMan Electroni...|                                        8|                                        0|\n",
            "|Motorola OEM NNTN...|                                        3|                                        0|\n",
            "|EVTECH(TM) Vintag...|                                        9|                                        0|\n",
            "|Amazing Accessory...|                                        2|                                        0|\n",
            "|LT Sport SN#10000...|                                        2|                                        0|\n",
            "|J.R.I. 4.0 S11 Mi...|                                        2|                                        0|\n",
            "|eForCity® Clear R...|                                        1|                                        0|\n",
            "|Genuine LCD INVER...|                                        1|                                        0|\n",
            "|Van Gogh - Blosso...|                                        3|                                        0|\n",
            "|Aisster(TM) 3 But...|                                        1|                                        0|\n",
            "|iSee Case (TM) 3D...|                                        4|                                        0|\n",
            "+--------------------+-----------------------------------------+-----------------------------------------+\n",
            "only showing top 20 rows\n",
            "\n"
          ],
          "name": "stdout"
        }
      ]
    },
    {
      "cell_type": "code",
      "metadata": {
        "id": "g-McxSZOIDEd",
        "colab_type": "code",
        "colab": {
          "base_uri": "https://localhost:8080/",
          "height": 134
        },
        "outputId": "e39191c2-4214-4a1c-d440-40cb6c389afd"
      },
      "source": [
        "# Samsung Counter Top Microwave\n",
        "ndf=df.filter(df.product_title ==\"Orbotix Sphero 2.0 App Controlled Robotic Ball - Retail Packaging - White/Blue\")\n",
        "Product_bias=ndf.groupby(\"vine\").agg(count(\"vine\"), round(F.avg(\"star_rating\"),2), round(F.sum(\"helpful_votes\")/count(\"vine\"), 2), round(F.sum(\"total_votes\")/count(\"vine\"), 2))\\\n",
        ".withColumnRenamed(\"round((sum(helpful_votes) / count(vine)), 2)\", \"Avg Helpful Votes\")\\\n",
        ".withColumnRenamed(\"round(avg(star_rating), 2)\", \"Avg Star Rating\")\\\n",
        ".withColumnRenamed(\"round((sum(total_votes) / count(vine)), 2)\", \"Avg Total Votes\").show()\n"
      ],
      "execution_count": 89,
      "outputs": [
        {
          "output_type": "stream",
          "text": [
            "+----+-----------+---------------+-----------------+---------------+\n",
            "|vine|count(vine)|Avg Star Rating|Avg Helpful Votes|Avg Total Votes|\n",
            "+----+-----------+---------------+-----------------+---------------+\n",
            "|   Y|         10|            4.2|             74.0|           88.4|\n",
            "|   N|         25|           3.84|             6.36|          12.28|\n",
            "+----+-----------+---------------+-----------------+---------------+\n",
            "\n"
          ],
          "name": "stdout"
        }
      ]
    },
    {
      "cell_type": "code",
      "metadata": {
        "id": "BItfe6NFKaR8",
        "colab_type": "code",
        "colab": {
          "base_uri": "https://localhost:8080/",
          "height": 185
        },
        "outputId": "f40bef4c-3e55-4b70-b1ac-6cf875b8660a"
      },
      "source": [
        "ndf=df.filter(df.product_title ==\"Orbotix Sphero 2.0 App Controlled Robotic Ball - Retail Packaging - White/Blue\")\n",
        "product_star_rating=ndf.groupby(\"star_rating\").agg(count(when(col(\"vine\") == \"N\", True)), count(when(col(\"vine\") == \"Y\", True)))\n",
        "product_star_rating=product_star_rating.withColumnRenamed(\"count(CASE WHEN (vine = N) THEN true END)\", \"non-vine\").withColumnRenamed(\"count(CASE WHEN (vine = Y) THEN true END)\", \"vine\")\\\n",
        ".sort(col(\"star_rating\").desc())\\\n",
        ".withColumn('percent-non-vine', col('non-vine')/sum('non-vine').over(Window.partitionBy()))\\\n",
        ".withColumn('percent-vine', col('vine')/sum('vine').over(Window.partitionBy()))\\\n",
        ".show()"
      ],
      "execution_count": 91,
      "outputs": [
        {
          "output_type": "stream",
          "text": [
            "+-----------+--------+----+----------------+------------+\n",
            "|star_rating|non-vine|vine|percent-non-vine|percent-vine|\n",
            "+-----------+--------+----+----------------+------------+\n",
            "|          5|      15|   4|             0.6|         0.4|\n",
            "|          4|       1|   4|            0.04|         0.4|\n",
            "|          3|       2|   2|            0.08|         0.2|\n",
            "|          2|       4|   0|            0.16|         0.0|\n",
            "|          1|       3|   0|            0.12|         0.0|\n",
            "+-----------+--------+----+----------------+------------+\n",
            "\n"
          ],
          "name": "stdout"
        }
      ]
    },
    {
      "cell_type": "code",
      "metadata": {
        "id": "dN8-Mic_LMgz",
        "colab_type": "code",
        "colab": {
          "base_uri": "https://localhost:8080/",
          "height": 454
        },
        "outputId": "8963252a-7320-472e-b913-4c7a582787ac"
      },
      "source": [
        "ndf=df.filter(df.product_title ==\"Orbotix Sphero 2.0 App Controlled Robotic Ball - Retail Packaging - White/Blue\")\n",
        "customer_ids=ndf.groupby(\"customer_id\").agg(count(when(col(\"vine\") == \"N\", True)), count(when(col(\"vine\") == \"Y\", True))).sort(col(\"count(CASE WHEN (vine = Y) THEN true END)\").desc()).show()"
      ],
      "execution_count": 93,
      "outputs": [
        {
          "output_type": "stream",
          "text": [
            "+-----------+-----------------------------------------+-----------------------------------------+\n",
            "|customer_id|count(CASE WHEN (vine = N) THEN true END)|count(CASE WHEN (vine = Y) THEN true END)|\n",
            "+-----------+-----------------------------------------+-----------------------------------------+\n",
            "|   52923654|                                        0|                                        1|\n",
            "|   52433849|                                        0|                                        1|\n",
            "|   52685392|                                        0|                                        1|\n",
            "|   48814959|                                        0|                                        1|\n",
            "|   44728245|                                        0|                                        1|\n",
            "|   14220975|                                        0|                                        1|\n",
            "|   34641748|                                        0|                                        1|\n",
            "|   52477683|                                        0|                                        1|\n",
            "|   52490988|                                        0|                                        1|\n",
            "|   50840646|                                        0|                                        1|\n",
            "|   16351581|                                        1|                                        0|\n",
            "|   40825945|                                        1|                                        0|\n",
            "|    6495575|                                        1|                                        0|\n",
            "|   15595494|                                        1|                                        0|\n",
            "|    2663299|                                        1|                                        0|\n",
            "|   22991254|                                        1|                                        0|\n",
            "|   12093127|                                        1|                                        0|\n",
            "|   33985948|                                        1|                                        0|\n",
            "|   53034470|                                        1|                                        0|\n",
            "|   52019334|                                        1|                                        0|\n",
            "+-----------+-----------------------------------------+-----------------------------------------+\n",
            "only showing top 20 rows\n",
            "\n"
          ],
          "name": "stdout"
        }
      ]
    },
    {
      "cell_type": "code",
      "metadata": {
        "id": "YWBcJeEcUgTh",
        "colab_type": "code",
        "colab": {}
      },
      "source": [
        ""
      ],
      "execution_count": null,
      "outputs": []
    }
  ]
}