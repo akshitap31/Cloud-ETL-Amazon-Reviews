{
  "nbformat": 4,
  "nbformat_minor": 0,
  "metadata": {
    "colab": {
      "name": "Untitled0.ipynb",
      "provenance": [],
      "collapsed_sections": []
    },
    "kernelspec": {
      "name": "python3",
      "display_name": "Python 3"
    }
  },
  "cells": [
    {
      "cell_type": "code",
      "metadata": {
        "id": "62FRVHZDXex7",
        "colab_type": "code",
        "colab": {}
      },
      "source": [
        "# Install Java, Spark, and Findspark\n",
        "!apt-get install openjdk-8-jdk-headless -qq > /dev/null\n",
        "!wget -q http://www-us.apache.org/dist/spark/spark-2.4.6/spark-2.4.6-bin-hadoop2.7.tgz\n",
        "!tar xf spark-2.4.6-bin-hadoop2.7.tgz\n",
        "!pip install -q findspark\n",
        "\n",
        "# Set Environment Variables\n",
        "import os\n",
        "os.environ[\"JAVA_HOME\"] = \"/usr/lib/jvm/java-8-openjdk-amd64\"\n",
        "os.environ[\"SPARK_HOME\"] = \"/content/spark-2.4.6-bin-hadoop2.7\"\n",
        "\n",
        "# Start a SparkSession\n",
        "import findspark\n",
        "findspark.init()"
      ],
      "execution_count": 1,
      "outputs": []
    },
    {
      "cell_type": "code",
      "metadata": {
        "id": "yYu3_Q50Zm-X",
        "colab_type": "code",
        "colab": {}
      },
      "source": [
        "from pyspark.sql import SparkSession\n",
        "spark = SparkSession.builder.appName(\"CloudETLProjectAnalysis\").getOrCreate()"
      ],
      "execution_count": 2,
      "outputs": []
    },
    {
      "cell_type": "code",
      "metadata": {
        "id": "A2bStuqDZqla",
        "colab_type": "code",
        "colab": {
          "base_uri": "https://localhost:8080/",
          "height": 474
        },
        "outputId": "894889a2-85a4-41b5-dfb0-72ded3199f69"
      },
      "source": [
        "# Read in data from S3 Buckets\n",
        "from pyspark import SparkFiles\n",
        "url=\"https://s3.amazonaws.com/amazon-reviews-pds/tsv/amazon_reviews_us_Major_Appliances_v1_00.tsv.gz\"\n",
        "spark.sparkContext.addFile(url)\n",
        "\n",
        "df = spark.read.option('header', 'true').csv(SparkFiles.get(\"amazon_reviews_us_Major_Appliances_v1_00.tsv.gz\"), header=True, sep=\"\\t\")\n",
        "df.show(truncate=False)"
      ],
      "execution_count": 19,
      "outputs": [
        {
          "output_type": "stream",
          "text": [
            "+-----------+-----------+--------------+----------+--------------+-----------------------------------------------------------------------------------------------------------------------------------------------+----------------+-----------+-------------+-----------+----+-----------------+-------------------------------------------------------------+------------------------------------------------------------------------------------------------------------------------------------------------------------------------------------------------------------------------------------------------------------------------------------------------------------------------------------------------------------------------------------------------+-----------+\n",
            "|marketplace|customer_id|review_id     |product_id|product_parent|product_title                                                                                                                                  |product_category|star_rating|helpful_votes|total_votes|vine|verified_purchase|review_headline                                              |review_body                                                                                                                                                                                                                                                                                                                                                                                     |review_date|\n",
            "+-----------+-----------+--------------+----------+--------------+-----------------------------------------------------------------------------------------------------------------------------------------------+----------------+-----------+-------------+-----------+----+-----------------+-------------------------------------------------------------+------------------------------------------------------------------------------------------------------------------------------------------------------------------------------------------------------------------------------------------------------------------------------------------------------------------------------------------------------------------------------------------------+-----------+\n",
            "|US         |16199106   |R203HPW78Z7N4K|B0067WNSZY|633038551     |FGGF3032MW Gallery Series 30\" Wide Freestanding Gas Range 5 Sealed Burners Easy Temperature Probe Express-Select Controls One-Touch Self Clean:|Major Appliances|5          |0            |0          |N   |Y                |If you need a new stove, this is a winner.                   |What a great stove.  What a wonderful replacement for my sort of antique.  Enjoy it every day.                                                                                                                                                                                                                                                                                                  |2015-08-31 |\n",
            "|US         |16374060   |R2EAIGVLEALSP3|B002QSXK60|811766671     |Best Hand Clothes Wringer                                                                                                                      |Major Appliances|5          |1            |1          |N   |Y                |Five Stars                                                   |worked great                                                                                                                                                                                                                                                                                                                                                                                    |2015-08-31 |\n",
            "|US         |15322085   |R1K1CD73HHLILA|B00EC452R6|345562728     |Supco SET184 Thermal Cutoff Kit                                                                                                                |Major Appliances|5          |0            |0          |N   |Y                |Fast Shipping                                                |Part exactly what I needed.  Saved by purchasing myself.                                                                                                                                                                                                                                                                                                                                        |2015-08-31 |\n",
            "|US         |32004835   |R2KZBMOFRMYOPO|B00MVVIF2G|563052763     |Midea WHS-160RB1 Compact Single Reversible Door Refrigerator and Freezer, 4.4 Cubic Feet, Black                                                |Major Appliances|5          |1            |1          |N   |Y                |Five Stars                                                   |Love my refrigerator! ! Keeps everything  cold..will recommend!                                                                                                                                                                                                                                                                                                                                 |2015-08-31 |\n",
            "|US         |25414497   |R6BIZOZY6UD01 |B00IY7BNUW|874236579     |Avalon Bay Portable Ice Maker                                                                                                                  |Major Appliances|5          |0            |0          |N   |Y                |Five Stars                                                   |No more running to the store for ice!  Works perfectly.                                                                                                                                                                                                                                                                                                                                         |2015-08-31 |\n",
            "|US         |36311751   |R1MCXZFNF8E7Y0|B0033X29CI|294467812     |Danby  Freestanding Wine Cooler                                                                                                                |Major Appliances|1          |0            |0          |N   |Y                |Piece of Junk                                                |It would not cool below 55 degrees and has now stopped working all together.  I would NOT recommend this piece of junk to anyone.                                                                                                                                                                                                                                                               |2015-08-31 |\n",
            "|US         |30920961   |R3EMB3E3ODR6BW|B005R597HA|183784715     |Avanti 110-Volt Automatic Portable Compact Dryer with Stainless Drum and See-Thru Window                                                       |Major Appliances|5          |2            |2          |N   |Y                |Works awesome for apt size 110 dryer                         |Works awesome for apt size 110 dryer. Handles load from apt size washer just fine. It does take longer to dry. Electric cost savings over a full size 220 is worth the time. Does not add much humidity unless lint filter is full.                                                                                                                                                             |2015-08-31 |\n",
            "|US         |52491265   |RJTONVTTOPJ5S |B00MO6V8Y0|960251524     |Danby products                                                                                                                                 |Major Appliances|5          |0            |0          |N   |Y                |Five Stars                                                   |exactly what I wanted!                                                                                                                                                                                                                                                                                                                                                                          |2015-08-31 |\n",
            "|US         |48166169   |R21U5QZ2CQECUM|B00HT39QDI|992475314     |3 Pack Tier1 MSWF GE SmartWater Replacement Refrigerator Water Filter                                                                          |Major Appliances|4          |0            |0          |N   |Y                |Four Stars                                                   |AS advertised                                                                                                                                                                                                                                                                                                                                                                                   |2015-08-31 |\n",
            "|US         |50394924   |RL2BBC51H89DH |B00LESFZ52|1641606       |True TSSU-60-16 60\" 2 Door Refrigerated Sandwich Prep Table | (16) 1/6 Pan Capacity                                                            |Major Appliances|4          |0            |0          |N   |Y                |but has poor insulation in the top                           |It works as advertised, but has poor insulation in the top. Like the 3rd shelf, it comes in handy for small/short items.                                                                                                                                                                                                                                                                        |2015-08-31 |\n",
            "|US         |3915552    |R3RNEPHF3WIRSZ|B0149IJVPI|838108342     |Magic: the Gathering - Rally the Ancestors (022/185) - Fate Reforged Magic: the Gathering                                                      |Major Appliances|2          |0            |0          |N   |N                |Two Stars                                                    |it's not worth 22 dollars, I've heard it became of some value just not that high.                                                                                                                                                                                                                                                                                                               |2015-08-31 |\n",
            "|US         |17068589   |R38DNT9KML2PF3|B002HT0958|387104338     |Mini Portable Countertop Spin Dryer                                                                                                            |Major Appliances|5          |0            |0          |N   |Y                |Love it for camping                                          |Wonderful! It spins the clothes out fast! We use this with the washing machine just like this in our camper. Great and saves money at the camp laundry.  Just wash spin and hang up.                                                                                                                                                                                                            |2015-08-31 |\n",
            "|US         |52081068   |R2ECMBJM8KNNC8|B006WOBNX6|180688127     |1 X Dishwasher Rack Roller for Frigidaire, Electrolux 154174501                                                                                |Major Appliances|4          |0            |0          |N   |Y                |Four Stars                                                   |Did the job but didn't match the original gray wheels.                                                                                                                                                                                                                                                                                                                                          |2015-08-31 |\n",
            "|US         |13783713   |R2F3F92PRN9T7S|B00NLPMOU0|570132358     |Watson 1.5 ft AC Power Extension Cord 14 AWG (Black)                                                                                           |Major Appliances|5          |0            |0          |N   |Y                |Very well satisfied.                                         |Arrived on time and exactly as described.  Fits my need perfectly.  Very well satisfied.                                                                                                                                                                                                                                                                                                        |2015-08-31 |\n",
            "|US         |14555366   |R35XNT88XVEMK6|B00KJ07SEM|313983847     |GE MWF SmartWater Compatible Water Filter Cartridge - Refrigerator                                                                             |Major Appliances|5          |1            |1          |N   |Y                |Five Stars                                                   |Super                                                                                                                                                                                                                                                                                                                                                                                           |2015-08-31 |\n",
            "|US         |48417244   |RZRXLHQS71FUP |B001AT2ALM|364403440     |Koldfront Ultra Compact Portable Ice Maker - White                                                                                             |Major Appliances|4          |1            |1          |N   |Y                |Four Stars                                                   |Looking forward to using this product.                                                                                                                                                                                                                                                                                                                                                          |2015-08-31 |\n",
            "|US         |19010760   |R3J9T4MZRAURV5|B00JG8B42K|672722354     |OnePurify RFC0800A Water Filter Replacement Cartridge, 2 Pack                                                                                  |Major Appliances|1          |0            |0          |N   |Y                |dont waste your                                              |cheap knock-off. dont waste your time                                                                                                                                                                                                                                                                                                                                                           |2015-08-31 |\n",
            "|US         |43532555   |R3CLDHHI0ZSQLO|B00FRJ5EWS|137548022     |2016 Life Water Ionizer Next Generation M9 Counter-top                                                                                         |Major Appliances|5          |1            |2          |N   |N                |Great Product                                                |My wife is looking for a alkaline water machine and she told about this 4000+ machine.I doing a research online and gladly find this  M9. I call them right away and give me a good discount  and upgraded my system with no extra cost.As soon my M9 arrive it is very easy to install.I did a water test and the quality of the product exceed my expectation.I was very happy on my first M9.|2015-08-31 |\n",
            "|US         |21879631   |RY52KZABZK8QF |B0052G14E8|423421857     |Danby 0.7 cu.ft. Countertop Microwave                                                                                                          |Major Appliances|1          |0            |0          |N   |Y                |Do not recommend it. go use your money for something more ...|3 of the buttons stopped working after a month of using it. It was used twice a day. Do not recommend it. go use your money for something more durable. Oh and also big plates do not fit in it.                                                                                                                                                                                                |2015-08-31 |\n",
            "|US         |810098     |R25RXV5X29M3UC|B00LOVVE9A|386722389     |SPT UF-304SS Energy Star Upright Freezer, 3.0 Cubic Feet, Stainless Steel                                                                      |Major Appliances|4          |0            |1          |N   |Y                |Four Stars                                                   |So far so good.                                                                                                                                                                                                                                                                                                                                                                                 |2015-08-31 |\n",
            "+-----------+-----------+--------------+----------+--------------+-----------------------------------------------------------------------------------------------------------------------------------------------+----------------+-----------+-------------+-----------+----+-----------------+-------------------------------------------------------------+------------------------------------------------------------------------------------------------------------------------------------------------------------------------------------------------------------------------------------------------------------------------------------------------------------------------------------------------------------------------------------------------+-----------+\n",
            "only showing top 20 rows\n",
            "\n"
          ],
          "name": "stdout"
        }
      ]
    },
    {
      "cell_type": "code",
      "metadata": {
        "id": "jO6jK5nBaFok",
        "colab_type": "code",
        "colab": {
          "base_uri": "https://localhost:8080/",
          "height": 34
        },
        "outputId": "b6180a27-d116-43e3-b086-40394e367822"
      },
      "source": [
        "print(f\"Total Number rows in the dataframe are {df.count()}\")"
      ],
      "execution_count": 20,
      "outputs": [
        {
          "output_type": "stream",
          "text": [
            "Total Number rows in the dataframe are 96901\n"
          ],
          "name": "stdout"
        }
      ]
    },
    {
      "cell_type": "code",
      "metadata": {
        "id": "6S1T_SWWbvry",
        "colab_type": "code",
        "colab": {
          "base_uri": "https://localhost:8080/",
          "height": 454
        },
        "outputId": "272023a4-42a2-4e56-a677-482fb59bdc05"
      },
      "source": [
        "review_id_table=df.select([\"review_id\", \"customer_id\", \"product_id\", \"product_parent\", \"review_date\"])\n",
        "review_id_table.show()"
      ],
      "execution_count": 21,
      "outputs": [
        {
          "output_type": "stream",
          "text": [
            "+--------------+-----------+----------+--------------+-----------+\n",
            "|     review_id|customer_id|product_id|product_parent|review_date|\n",
            "+--------------+-----------+----------+--------------+-----------+\n",
            "|R203HPW78Z7N4K|   16199106|B0067WNSZY|     633038551| 2015-08-31|\n",
            "|R2EAIGVLEALSP3|   16374060|B002QSXK60|     811766671| 2015-08-31|\n",
            "|R1K1CD73HHLILA|   15322085|B00EC452R6|     345562728| 2015-08-31|\n",
            "|R2KZBMOFRMYOPO|   32004835|B00MVVIF2G|     563052763| 2015-08-31|\n",
            "| R6BIZOZY6UD01|   25414497|B00IY7BNUW|     874236579| 2015-08-31|\n",
            "|R1MCXZFNF8E7Y0|   36311751|B0033X29CI|     294467812| 2015-08-31|\n",
            "|R3EMB3E3ODR6BW|   30920961|B005R597HA|     183784715| 2015-08-31|\n",
            "| RJTONVTTOPJ5S|   52491265|B00MO6V8Y0|     960251524| 2015-08-31|\n",
            "|R21U5QZ2CQECUM|   48166169|B00HT39QDI|     992475314| 2015-08-31|\n",
            "| RL2BBC51H89DH|   50394924|B00LESFZ52|       1641606| 2015-08-31|\n",
            "|R3RNEPHF3WIRSZ|    3915552|B0149IJVPI|     838108342| 2015-08-31|\n",
            "|R38DNT9KML2PF3|   17068589|B002HT0958|     387104338| 2015-08-31|\n",
            "|R2ECMBJM8KNNC8|   52081068|B006WOBNX6|     180688127| 2015-08-31|\n",
            "|R2F3F92PRN9T7S|   13783713|B00NLPMOU0|     570132358| 2015-08-31|\n",
            "|R35XNT88XVEMK6|   14555366|B00KJ07SEM|     313983847| 2015-08-31|\n",
            "| RZRXLHQS71FUP|   48417244|B001AT2ALM|     364403440| 2015-08-31|\n",
            "|R3J9T4MZRAURV5|   19010760|B00JG8B42K|     672722354| 2015-08-31|\n",
            "|R3CLDHHI0ZSQLO|   43532555|B00FRJ5EWS|     137548022| 2015-08-31|\n",
            "| RY52KZABZK8QF|   21879631|B0052G14E8|     423421857| 2015-08-31|\n",
            "|R25RXV5X29M3UC|     810098|B00LOVVE9A|     386722389| 2015-08-31|\n",
            "+--------------+-----------+----------+--------------+-----------+\n",
            "only showing top 20 rows\n",
            "\n"
          ],
          "name": "stdout"
        }
      ]
    },
    {
      "cell_type": "code",
      "metadata": {
        "id": "BurvLhJRgxLv",
        "colab_type": "code",
        "colab": {
          "base_uri": "https://localhost:8080/",
          "height": 101
        },
        "outputId": "d0daf6cd-feac-4084-caf9-ae0adebbf083"
      },
      "source": [
        "review_id_table.dtypes"
      ],
      "execution_count": 22,
      "outputs": [
        {
          "output_type": "execute_result",
          "data": {
            "text/plain": [
              "[('review_id', 'string'),\n",
              " ('customer_id', 'string'),\n",
              " ('product_id', 'string'),\n",
              " ('product_parent', 'string'),\n",
              " ('review_date', 'string')]"
            ]
          },
          "metadata": {
            "tags": []
          },
          "execution_count": 22
        }
      ]
    },
    {
      "cell_type": "code",
      "metadata": {
        "id": "EcFolLr-hzBV",
        "colab_type": "code",
        "colab": {}
      },
      "source": [
        "from pyspark.sql.types import IntegerType, DateType\n",
        "review_id_table=review_id_table.withColumn(\"customer_id\", review_id_table[\"customer_id\"].cast(IntegerType()))\n",
        "review_id_table=review_id_table.withColumn(\"product_id\", review_id_table[\"product_id\"].cast(IntegerType()))\n",
        "review_id_table=review_id_table.withColumn(\"review_date\", review_id_table[\"review_date\"].cast(DateType()))\n"
      ],
      "execution_count": 23,
      "outputs": []
    },
    {
      "cell_type": "code",
      "metadata": {
        "id": "BgNLQ0xf1fr2",
        "colab_type": "code",
        "colab": {
          "base_uri": "https://localhost:8080/",
          "height": 454
        },
        "outputId": "fda3584a-5302-4032-be3b-a43e1126edcb"
      },
      "source": [
        "products=df.select([\"product_id\", \"product_title\" ])\n",
        "products=products.dropDuplicates()\n",
        "products.show()"
      ],
      "execution_count": 24,
      "outputs": [
        {
          "output_type": "stream",
          "text": [
            "+----------+--------------------+\n",
            "|product_id|       product_title|\n",
            "+----------+--------------------+\n",
            "|B00RE645WC|WindMax 23\" Stain...|\n",
            "|B008SCVL6E|G.E. Microwave Gl...|\n",
            "|B0081LV860|Samsung WF405ATPA...|\n",
            "|B00KC812WK|2-pack OnePurify ...|\n",
            "|B00MEPNYRK|GE PSB48YSHSS Pro...|\n",
            "|B000JONLMQ|KitchenAid 18\" TR...|\n",
            "|B0073M7GNC|Whirlpool WOS92EC...|\n",
            "|B00BIWR3IQ|GE Profile PWE23K...|\n",
            "|B00O3XF1RC|MobileWasher Kit ...|\n",
            "|B00JDB6P3I|Bosch NGM5055UC 5...|\n",
            "|B0011YJE7Y|GE PHP960DMBB Pro...|\n",
            "|B00J4EBYBM|Bosch HBL5651UC 5...|\n",
            "|B0056HJ07Q|Frigidaire FHPC36...|\n",
            "|B00FGWW82A|Frigidaire FFFS51...|\n",
            "|B004UM5Y32|None Ers30t10074 ...|\n",
            "|B00MANTPJM|GE Profile PFE28R...|\n",
            "|B006L8PW1C|Fisher Paykel DD2...|\n",
            "|B00T9WOH5E|Lg Lt600p Compati...|\n",
            "|B001DHRJSU|Whirlpool Part Nu...|\n",
            "|B0050KKN8E|Whirlpool Part Nu...|\n",
            "+----------+--------------------+\n",
            "only showing top 20 rows\n",
            "\n"
          ],
          "name": "stdout"
        }
      ]
    },
    {
      "cell_type": "code",
      "metadata": {
        "id": "6LMum6wDM1PM",
        "colab_type": "code",
        "colab": {
          "base_uri": "https://localhost:8080/",
          "height": 34
        },
        "outputId": "e0f7541b-e2da-4aaa-92f1-2d3fffb574a8"
      },
      "source": [
        "products.dtypes"
      ],
      "execution_count": 25,
      "outputs": [
        {
          "output_type": "execute_result",
          "data": {
            "text/plain": [
              "[('product_id', 'string'), ('product_title', 'string')]"
            ]
          },
          "metadata": {
            "tags": []
          },
          "execution_count": 25
        }
      ]
    },
    {
      "cell_type": "code",
      "metadata": {
        "id": "VdCyuzScM-nE",
        "colab_type": "code",
        "colab": {
          "base_uri": "https://localhost:8080/",
          "height": 454
        },
        "outputId": "ac19d47d-3878-4367-855a-ce049de23e22"
      },
      "source": [
        "# customers=df.select([\"customer_id\", \"\"])\n",
        "from pyspark.sql import functions as F\n",
        "customers=df.groupby(\"customer_id\").agg( F.count(\"customer_id\"))\n",
        "customers=customers.withColumnRenamed(\"count(customer_id)\", \"customer_count\")\n",
        "customers.show()"
      ],
      "execution_count": 26,
      "outputs": [
        {
          "output_type": "stream",
          "text": [
            "+-----------+--------------+\n",
            "|customer_id|customer_count|\n",
            "+-----------+--------------+\n",
            "|   41307088|             1|\n",
            "|   36030878|             1|\n",
            "|   52001665|             1|\n",
            "|    2131939|             1|\n",
            "|    5901451|             1|\n",
            "|    4468816|             1|\n",
            "|   30054413|             1|\n",
            "|     498070|             1|\n",
            "|   14632268|             1|\n",
            "|   41893483|             1|\n",
            "|   20723844|             1|\n",
            "|   11955952|             1|\n",
            "|   19309400|             1|\n",
            "|   30677319|             1|\n",
            "|   12651580|             1|\n",
            "|   13920155|             1|\n",
            "|     138964|             1|\n",
            "|   29947344|             1|\n",
            "|   48607266|             1|\n",
            "|   15908254|             1|\n",
            "+-----------+--------------+\n",
            "only showing top 20 rows\n",
            "\n"
          ],
          "name": "stdout"
        }
      ]
    },
    {
      "cell_type": "code",
      "metadata": {
        "id": "pCS4HOOvN2Ss",
        "colab_type": "code",
        "colab": {
          "base_uri": "https://localhost:8080/",
          "height": 101
        },
        "outputId": "291cbbd3-bc36-46a1-871d-e60d5a227a11"
      },
      "source": [
        "vine_table=df.select([\"review_id\", \"star_rating\", \"helpful_votes\", \"total_votes\", \"vine\"])\n",
        "vine_table.dtypes"
      ],
      "execution_count": 27,
      "outputs": [
        {
          "output_type": "execute_result",
          "data": {
            "text/plain": [
              "[('review_id', 'string'),\n",
              " ('star_rating', 'string'),\n",
              " ('helpful_votes', 'string'),\n",
              " ('total_votes', 'string'),\n",
              " ('vine', 'string')]"
            ]
          },
          "metadata": {
            "tags": []
          },
          "execution_count": 27
        }
      ]
    },
    {
      "cell_type": "code",
      "metadata": {
        "id": "yNMRWPddO7IY",
        "colab_type": "code",
        "colab": {
          "base_uri": "https://localhost:8080/",
          "height": 454
        },
        "outputId": "8f7076ca-f027-4f3a-d563-8310b78b6418"
      },
      "source": [
        "vine_table=vine_table.withColumn(\"star_rating\", vine_table[\"star_rating\"].cast(IntegerType()))\n",
        "vine_table=vine_table.withColumn(\"helpful_votes\", vine_table[\"helpful_votes\"].cast(IntegerType()))\n",
        "vine_table=vine_table.withColumn(\"total_votes\", vine_table[\"total_votes\"].cast(IntegerType()))\n",
        "vine_table.show()\n"
      ],
      "execution_count": 28,
      "outputs": [
        {
          "output_type": "stream",
          "text": [
            "+--------------+-----------+-------------+-----------+----+\n",
            "|     review_id|star_rating|helpful_votes|total_votes|vine|\n",
            "+--------------+-----------+-------------+-----------+----+\n",
            "|R203HPW78Z7N4K|          5|            0|          0|   N|\n",
            "|R2EAIGVLEALSP3|          5|            1|          1|   N|\n",
            "|R1K1CD73HHLILA|          5|            0|          0|   N|\n",
            "|R2KZBMOFRMYOPO|          5|            1|          1|   N|\n",
            "| R6BIZOZY6UD01|          5|            0|          0|   N|\n",
            "|R1MCXZFNF8E7Y0|          1|            0|          0|   N|\n",
            "|R3EMB3E3ODR6BW|          5|            2|          2|   N|\n",
            "| RJTONVTTOPJ5S|          5|            0|          0|   N|\n",
            "|R21U5QZ2CQECUM|          4|            0|          0|   N|\n",
            "| RL2BBC51H89DH|          4|            0|          0|   N|\n",
            "|R3RNEPHF3WIRSZ|          2|            0|          0|   N|\n",
            "|R38DNT9KML2PF3|          5|            0|          0|   N|\n",
            "|R2ECMBJM8KNNC8|          4|            0|          0|   N|\n",
            "|R2F3F92PRN9T7S|          5|            0|          0|   N|\n",
            "|R35XNT88XVEMK6|          5|            1|          1|   N|\n",
            "| RZRXLHQS71FUP|          4|            1|          1|   N|\n",
            "|R3J9T4MZRAURV5|          1|            0|          0|   N|\n",
            "|R3CLDHHI0ZSQLO|          5|            1|          2|   N|\n",
            "| RY52KZABZK8QF|          1|            0|          0|   N|\n",
            "|R25RXV5X29M3UC|          4|            0|          1|   N|\n",
            "+--------------+-----------+-------------+-----------+----+\n",
            "only showing top 20 rows\n",
            "\n"
          ],
          "name": "stdout"
        }
      ]
    },
    {
      "cell_type": "code",
      "metadata": {
        "id": "HmweuKRQQT9c",
        "colab_type": "code",
        "colab": {}
      },
      "source": [
        "# Configure settings for RDS\n",
        "mode = \"append\"\n",
        "jdbc_url=\"jdbc:postgresql://<RDS-Endpoint>:5432/amazon-sentiments\"\n",
        "config = {\"user\":\"root\", \n",
        "          \"password\": \"<RDS password>\", \n",
        "          \"driver\":\"org.postgresql.Driver\"}\n"
      ],
      "execution_count": 29,
      "outputs": []
    },
    {
      "cell_type": "code",
      "metadata": {
        "id": "1O2t-U6DR39N",
        "colab_type": "code",
        "colab": {}
      },
      "source": [
        "review_id_table.write.jdbc(url=jdbc_url, table='review_id_table', mode=mode, properties=config)"
      ],
      "execution_count": 14,
      "outputs": []
    },
    {
      "cell_type": "code",
      "metadata": {
        "id": "oM1ZCztxR4NF",
        "colab_type": "code",
        "colab": {}
      },
      "source": [
        "products.write.jdbc(url=jdbc_url, table='products', mode=mode, properties=config)"
      ],
      "execution_count": 15,
      "outputs": []
    },
    {
      "cell_type": "code",
      "metadata": {
        "id": "9JtCe3cGSJ6x",
        "colab_type": "code",
        "colab": {}
      },
      "source": [
        "customers.write.jdbc(url=jdbc_url, table='customers', mode=mode, properties=config)"
      ],
      "execution_count": 16,
      "outputs": []
    },
    {
      "cell_type": "code",
      "metadata": {
        "id": "1ceVjRRDSKFl",
        "colab_type": "code",
        "colab": {}
      },
      "source": [
        "vine_table.write.jdbc(url=jdbc_url, table='vine_table', mode=mode, properties=config)"
      ],
      "execution_count": 17,
      "outputs": []
    },
    {
      "cell_type": "code",
      "metadata": {
        "id": "XM1Hpoj1ZjHX",
        "colab_type": "code",
        "colab": {}
      },
      "source": [
        ""
      ],
      "execution_count": 17,
      "outputs": []
    }
  ]
}